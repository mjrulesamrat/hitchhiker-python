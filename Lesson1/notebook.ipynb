{
 "cells": [
  {
   "cell_type": "markdown",
   "metadata": {},
   "source": [
    "# Welcome to Hickhiker's guide to python"
   ]
  },
  {
   "cell_type": "markdown",
   "metadata": {},
   "source": [
    "## 1> Hello World\n",
    "\n",
    "- We'll start with Hello world print example. \n",
    "- Run below cell to print hello world."
   ]
  },
  {
   "cell_type": "code",
   "execution_count": 2,
   "metadata": {},
   "outputs": [
    {
     "name": "stdout",
     "output_type": "stream",
     "text": [
      "Hello World!\n"
     ]
    }
   ],
   "source": [
    "print(\"Hello World!\")"
   ]
  },
  {
   "cell_type": "markdown",
   "metadata": {},
   "source": [
    "## 2> Variables\n",
    "\n",
    "- Learning how to create varaible in Python\n",
    "\n",
    "- Creating web apps, backend services, games, search engines, etc. all involves interacting with different types of data. This is possible using variables. A variable stores a piece of data and gives it a specific name."
   ]
  },
  {
   "cell_type": "code",
   "execution_count": 3,
   "metadata": {},
   "outputs": [
    {
     "name": "stdout",
     "output_type": "stream",
     "text": [
      "20\n"
     ]
    }
   ],
   "source": [
    "my_variable = 20\n",
    "\n",
    "print(my_variable)"
   ]
  },
  {
   "cell_type": "markdown",
   "metadata": {},
   "source": [
    "## 3> Booleans\n",
    "\n",
    "- The next data type is boolean which is like a light switch. It can only have two values. Just like a light switch can only be on or off, a boolean can only be True or False."
   ]
  },
  {
   "cell_type": "code",
   "execution_count": 4,
   "metadata": {},
   "outputs": [
    {
     "name": "stdout",
     "output_type": "stream",
     "text": [
      "True\n"
     ]
    }
   ],
   "source": [
    "my_table_lamp = True\n",
    "\n",
    "print(my_table_lamp)"
   ]
  },
  {
   "cell_type": "markdown",
   "metadata": {},
   "source": [
    "# 4> Whitespaces(Indentations)\n",
    "- Learning the importance of whitespace in Python\n",
    "- In Python, whitespace is used to structure code. Whitespace is important, so you have to be careful with how you use it. Whenever your whitespace is off, you'll get this error."
   ]
  },
  {
   "cell_type": "code",
   "execution_count": 5,
   "metadata": {},
   "outputs": [
    {
     "ename": "IndentationError",
     "evalue": "expected an indented block (<ipython-input-5-178f3ed7322a>, line 2)",
     "output_type": "error",
     "traceback": [
      "\u001b[0;36m  File \u001b[0;32m\"<ipython-input-5-178f3ed7322a>\"\u001b[0;36m, line \u001b[0;32m2\u001b[0m\n\u001b[0;31m    eggs = 12\u001b[0m\n\u001b[0m       ^\u001b[0m\n\u001b[0;31mIndentationError\u001b[0m\u001b[0;31m:\u001b[0m expected an indented block\n"
     ]
    }
   ],
   "source": [
    "def spam():\n",
    "eggs = 12\n",
    "return eggs\n",
    "\n",
    "print(spam())"
   ]
  },
  {
   "cell_type": "code",
   "execution_count": 9,
   "metadata": {},
   "outputs": [
    {
     "name": "stdout",
     "output_type": "stream",
     "text": [
      "12\n"
     ]
    }
   ],
   "source": [
    "def not_spam():\n",
    "  eggs = 12\n",
    "  return eggs\n",
    "\n",
    "print(not_spam())"
   ]
  },
  {
   "cell_type": "markdown",
   "metadata": {},
   "source": [
    "- In above example, we have used two-space indentation (two blank spaces for each indentation) to make sure you can easily read code with multiple indentations.\n",
    "\n",
    "- You will also see Python code that uses four-space indentation. Both are correct, as long as you make sure to be consistent throughout your code.\n",
    "\n",
    "- In this tutorial, we'll use four-space indentation."
   ]
  },
  {
   "cell_type": "markdown",
   "metadata": {},
   "source": [
    "# 5> Comments in Python\n",
    "- The # sign is for comments. A comment is a line of text that Python won't try to run as code. It's just for humans to read.\n",
    "- Comments make your program easier to understand. When you look back at your code or others want to collaborate with you, they can read your comments and easily figure out what your code does."
   ]
  },
  {
   "cell_type": "markdown",
   "metadata": {},
   "source": [
    "## Single line comments"
   ]
  },
  {
   "cell_type": "code",
   "execution_count": 10,
   "metadata": {},
   "outputs": [
    {
     "name": "stdout",
     "output_type": "stream",
     "text": [
      "12\n"
     ]
    }
   ],
   "source": [
    "def spam():\n",
    "    eggs = 12 # Assign number of eggs to 'eggs' variable\n",
    "    return eggs\n",
    "        \n",
    "print(spam())"
   ]
  },
  {
   "cell_type": "markdown",
   "metadata": {},
   "source": [
    "## Multi line comments"
   ]
  },
  {
   "cell_type": "code",
   "execution_count": 11,
   "metadata": {},
   "outputs": [
    {
     "name": "stdout",
     "output_type": "stream",
     "text": [
      "12\n"
     ]
    }
   ],
   "source": [
    "def spam():\n",
    "    \"\"\"\n",
    "    Let's return the value stored in eggs\n",
    "    so that it can be used further\n",
    "    \"\"\"\n",
    "    eggs = 12\n",
    "    return eggs\n",
    "        \n",
    "print(spam())"
   ]
  },
  {
   "cell_type": "markdown",
   "metadata": {},
   "source": [
    "# 6> Math"
   ]
  },
  {
   "cell_type": "code",
   "execution_count": 12,
   "metadata": {},
   "outputs": [],
   "source": [
    "addition = 72 + 23 # 95\n",
    "subtraction = 108 - 204 # -96\n",
    "multiplication = 108 * 0.5 # 54\n",
    "division = 108 / 9 # 12\n",
    "exponentiation = 2 ** 3 # 8\n",
    "modulo = 3 % 2 # 1"
   ]
  },
  {
   "cell_type": "code",
   "execution_count": 19,
   "metadata": {},
   "outputs": [
    {
     "name": "stdout",
     "output_type": "stream",
     "text": [
      "Addition: 72 + 23 =  95\n"
     ]
    }
   ],
   "source": [
    "print(\"Addition: 72 + 23 = \", addition)"
   ]
  },
  {
   "cell_type": "code",
   "execution_count": 17,
   "metadata": {},
   "outputs": [
    {
     "name": "stdout",
     "output_type": "stream",
     "text": [
      "subtraction: 108 - 204 =  -96\n"
     ]
    }
   ],
   "source": [
    "print(\"subtraction: 108 - 204 = \", subtraction)"
   ]
  },
  {
   "cell_type": "markdown",
   "metadata": {},
   "source": [
    "# All together\n",
    "So far we have learned about:\n",
    "- **Variables**, which store values for later use\n",
    "- **Data types**, such as numbers and booleans\n",
    "- **Whitespace**, which separates statements\n",
    "- **Comments**, which make your code easier to read\n",
    "- **Arithmetic operations**, including `+`, `-`, `*`, `/`, `**`, and `%`\n",
    "\n",
    "## Let's put our knowledge to work\n",
    "Create a file with .py extension and\n",
    "- Write a single-line comment on line 1. It can be anything! (Make sure it starts with `#`)\n",
    "- Set the variable `monty` equal to `True`.\n",
    "- Set another variable `python` equal to `1.234`.\n",
    "- Set a third variable `monty_python` equal to `python` squared."
   ]
  },
  {
   "cell_type": "code",
   "execution_count": null,
   "metadata": {},
   "outputs": [],
   "source": []
  }
 ],
 "metadata": {
  "kernelspec": {
   "display_name": "Python 3",
   "language": "python",
   "name": "python3"
  },
  "language_info": {
   "codemirror_mode": {
    "name": "ipython",
    "version": 3
   },
   "file_extension": ".py",
   "mimetype": "text/x-python",
   "name": "python",
   "nbconvert_exporter": "python",
   "pygments_lexer": "ipython3",
   "version": "3.6.4"
  }
 },
 "nbformat": 4,
 "nbformat_minor": 2
}
